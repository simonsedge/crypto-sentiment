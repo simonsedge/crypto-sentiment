{
 "cells": [
  {
   "cell_type": "markdown",
   "metadata": {},
   "source": [
    "# Libraries"
   ]
  },
  {
   "cell_type": "code",
   "execution_count": null,
   "metadata": {},
   "outputs": [],
   "source": [
    "import numpy as np\n",
    "from matplotlib import pyplot\n",
    "from matplotlib import pyplot as plt\n",
    "from matplotlib.pyplot import figure\n",
    "import pandas as pd\n",
    "from sklearn.metrics import accuracy_score,  precision_score, confusion_matrix\n",
    "from sklearn.metrics import classification_report\n",
    "\n",
    "%matplotlib inline\n",
    "plt.style.use('ggplot')"
   ]
  },
  {
   "cell_type": "code",
   "execution_count": null,
   "metadata": {},
   "outputs": [],
   "source": [
    "from arima import *\n",
    "from custom_loss import *\n",
    "from state_of_the_art import *"
   ]
  },
  {
   "cell_type": "code",
   "execution_count": null,
   "metadata": {},
   "outputs": [],
   "source": [
    "custom_loss = custom_loss()\n",
    "arima, real_price = arima_model()\n",
    "state_of_the_art = state_of_the_art()"
   ]
  },
  {
   "cell_type": "markdown",
   "metadata": {},
   "source": [
    "# Our model"
   ]
  },
  {
   "cell_type": "code",
   "execution_count": null,
   "metadata": {},
   "outputs": [],
   "source": [
    "result = pd.read_csv('result.csv')\n",
    "model = result.prediction"
   ]
  },
  {
   "cell_type": "code",
   "execution_count": null,
   "metadata": {},
   "outputs": [],
   "source": [
    "fig = plt.figure(figsize = (16, 7))\n",
    "plt.plot(result.label, label='BTC price')\n",
    "plt.plot(result.prediction, label='Predicted')\n",
    "\n",
    "plt.legend(['BTC price', 'Predicted'])\n",
    "plt.xlabel('Time', fontsize=18, fontweight='bold')\n",
    "plt.ylabel('Price', fontsize=18, fontweight='bold')\n",
    "plt.title(\"Project's sentiment model Bitcoin price prediction\", fontsize=20, fontweight='bold')\n",
    "fig.savefig('project_model.eps', dpi=600, bbox_inches='tight')\n",
    "plt.show()"
   ]
  },
  {
   "cell_type": "markdown",
   "metadata": {},
   "source": [
    "## Buy Sell Graphs"
   ]
  },
  {
   "cell_type": "code",
   "execution_count": null,
   "metadata": {},
   "outputs": [],
   "source": [
    "result = pd.read_csv('result.csv')\n",
    "df = pd.read_csv('price_sentiment_btc.csv')"
   ]
  },
  {
   "cell_type": "code",
   "execution_count": null,
   "metadata": {},
   "outputs": [],
   "source": [
    "inter = pd.DataFrame(result.label, columns=['label'])\n",
    "inter['prediction'] = result.prediction\n",
    "result = inter.copy()"
   ]
  },
  {
   "cell_type": "code",
   "execution_count": null,
   "metadata": {},
   "outputs": [],
   "source": [
    "from datetime import datetime\n",
    "time_list = []\n",
    "for i in df['Time']:\n",
    "  dates = datetime.strptime(i, \"%Y-%m-%d %H:%M:%S\")\n",
    "  date = f\"{dates.date()}\"\n",
    "  time_list.append(date)\n",
    "df['Time'] = time_list\n",
    "df = df[-2320:].reset_index(drop=True)\n",
    "result['Time'] = df['Time']"
   ]
  },
  {
   "cell_type": "code",
   "execution_count": null,
   "metadata": {},
   "outputs": [],
   "source": [
    "def get_decisions(signs):\n",
    "    decision = {'start': signs.index[0], 'end': None, 'val': signs[0]}\n",
    "    decisions = [decision]\n",
    "    for t in signs.index:\n",
    "        if decisions[-1]['end'] != None:\n",
    "            decision = {'start': next_start, 'end': None, 'val': signs[t]}\n",
    "            decisions.append(decision)\n",
    "\n",
    "        val = signs[t]\n",
    "        if decisions[-1]['val'] == val:\n",
    "            continue\n",
    "        else:\n",
    "            decisions[-1]['end'] = t\n",
    "            next_start = t\n",
    "\n",
    "    decisions[-1]['end'] = signs.index[-1]\n",
    "\n",
    "    return decisions"
   ]
  },
  {
   "cell_type": "code",
   "execution_count": null,
   "metadata": {},
   "outputs": [],
   "source": [
    "result = result.reset_index(drop=True)"
   ]
  },
  {
   "cell_type": "code",
   "execution_count": null,
   "metadata": {},
   "outputs": [],
   "source": [
    "predicted_movement = []\n",
    "actual_movement = []\n",
    "for i in range(0, len(result.prediction)-1):\n",
    "    if result.prediction[i+1] > result.prediction[i]:\n",
    "        predicted_movement.append(1)\n",
    "    else:\n",
    "        predicted_movement.append(-1)\n",
    "    if result.label[i+1] > result.label[i]:\n",
    "        actual_movement.append(1)\n",
    "    else:\n",
    "        actual_movement.append(-1)"
   ]
  },
  {
   "cell_type": "code",
   "execution_count": null,
   "metadata": {},
   "outputs": [],
   "source": [
    "price_df = pd.DataFrame(result.label)\n",
    "price_df['Time'] = result['Time']\n",
    "price_df = price_df.set_index('Time')"
   ]
  },
  {
   "cell_type": "code",
   "execution_count": null,
   "metadata": {},
   "outputs": [],
   "source": [
    "fig, ax = plt.subplots(1,1, figsize=(16,7))\n",
    "fig.tight_layout()\n",
    "fig.subplots_adjust(hspace=0.4)\n",
    "\n",
    "# Moving Average Crossover\n",
    "price = price_df.label\n",
    "\n",
    "move_signs = pd.Series(np.sign(predicted_movement))\n",
    "signs = move_signs.copy()\n",
    "idx = move_signs.index[0]\n",
    "\n",
    "# crossover plot \n",
    "price[idx:].plot(ax=ax, label='BTC Close price')\n",
    "decisions = get_decisions(signs)\n",
    "for dec in decisions:\n",
    "    ax.axvspan(dec['start'], dec['end'], alpha=0.4, color = 'skyblue' if dec['val'] == 1 else 'salmon')\n",
    "ax.legend()\n",
    "ax.set_title(\"Bitcoin trading strategy\", fontsize=20, fontweight='bold')\n",
    "ax.set_ylabel('Bitcoin Price', fontsize=18, fontweight='bold')\n",
    "ax.set_xlabel('Date', fontsize=18, fontweight='bold')\n",
    "fig.savefig('15_BTC_trading_strategy_plot.eps', dpi=600, bbox_inches='tight')"
   ]
  },
  {
   "cell_type": "code",
   "execution_count": null,
   "metadata": {},
   "outputs": [],
   "source": [
    "hourly_labels = []\n",
    "hourly_predictions = []\n",
    "for i in range(0, len(result.label),4):\n",
    "    hourly_labels.append(result.label[i])\n",
    "    hourly_predictions.append(result.prediction[i])\n",
    "\n",
    "\n",
    "predicted_movement = []\n",
    "actual_movement = []\n",
    "for i in range(0, len(hourly_predictions)-1):\n",
    "    if hourly_predictions[i+1] > hourly_predictions[i]:\n",
    "        predicted_movement.append(1)\n",
    "    else:\n",
    "        predicted_movement.append(-1)\n",
    "    if hourly_labels[i+1] > hourly_labels[i]:\n",
    "        actual_movement.append(1)\n",
    "    else:\n",
    "        actual_movement.append(-1)"
   ]
  },
  {
   "cell_type": "code",
   "execution_count": null,
   "metadata": {},
   "outputs": [],
   "source": [
    "price_df = pd.DataFrame(hourly_labels, columns=['label'])\n",
    "price_df['Time'] = result['Time']\n",
    "price_df = price_df.set_index('Time')"
   ]
  },
  {
   "cell_type": "code",
   "execution_count": null,
   "metadata": {},
   "outputs": [],
   "source": [
    "fig, ax = plt.subplots(1,1, figsize=(16,7))\n",
    "fig.tight_layout()\n",
    "fig.subplots_adjust(hspace=0.4)\n",
    "\n",
    "# Moving Average Crossover\n",
    "price = price_df.label\n",
    "\n",
    "move_signs = pd.Series(np.sign(predicted_movement))\n",
    "signs = move_signs.copy()\n",
    "idx = move_signs.index[0]\n",
    "\n",
    "# crossover plot \n",
    "price[idx:].plot(ax=ax, label='BTC Close price')\n",
    "decisions = get_decisions(signs)\n",
    "for dec in decisions:\n",
    "    ax.axvspan(dec['start'], dec['end'], alpha=0.4, color = 'skyblue' if dec['val'] == 1 else 'salmon')\n",
    "ax.legend()\n",
    "ax.set_title(\"Bitcoin trading strategy\", fontsize=20, fontweight='bold')\n",
    "ax.set_ylabel('Bitcoin Price', fontsize=18, fontweight='bold')\n",
    "ax.set_xlabel('Date', fontsize=18, fontweight='bold')\n",
    "fig.savefig('hourly_BTC_trading_strategy_plot.eps', dpi=600, bbox_inches='tight')"
   ]
  },
  {
   "cell_type": "markdown",
   "metadata": {},
   "source": [
    "# Compare"
   ]
  },
  {
   "cell_type": "code",
   "execution_count": null,
   "metadata": {},
   "outputs": [],
   "source": [
    "def buy_sell_trades(actual, predicted, threshold):\n",
    "    pred_df = pd.DataFrame()\n",
    "    pred_df['Predictions'] = predicted\n",
    "    threshold /= 100\n",
    "\n",
    "\n",
    "    y_pct_change = pred_df.pct_change()\n",
    "\n",
    "    money = 10000\n",
    "    number_of_stocks = (10000 / actual[0])\n",
    "    left = (((actual[len(actual)-1]-actual[0])/actual[0])+1)*10000\n",
    "    trades = 0\n",
    "    number_of_stocks = 0\n",
    "    portfolio = []\n",
    "    bh = []\n",
    "\n",
    "    buying_percentage_threshold = threshold \n",
    "    selling_percentage_threshold = threshold\n",
    "\n",
    "    for i in range(len(predicted) - 1):    \n",
    "        if y_pct_change['Predictions'][i + 1] > buying_percentage_threshold:\n",
    "            for j in np.arange(1, 0, -0.001):\n",
    "                #Buying of stock\n",
    "                if (money >= j * actual[i]):\n",
    "                    trades += 1\n",
    "                    money -= j * actual[i]\n",
    "                    number_of_stocks += (j*(1-0.001))\n",
    "                    break\n",
    "        elif  y_pct_change['Predictions'][i + 1] < -selling_percentage_threshold:\n",
    "            for j in np.arange(1, 0, -0.001):\n",
    "                #Selling of stock\n",
    "                if (number_of_stocks >= j):\n",
    "                    money += (j*(1-0.001)) * actual[i]\n",
    "                    number_of_stocks -= j\n",
    "                    break\n",
    "        portfolio.append((number_of_stocks * actual[i])+money)\n",
    "        bh.append(actual[i])\n",
    "\n",
    "    money += number_of_stocks * actual[len(actual) - 1]\n",
    "\n",
    "    print('Number of trades: ', trades)\n",
    "\n",
    "    return portfolio, trades\n"
   ]
  },
  {
   "cell_type": "code",
   "execution_count": null,
   "metadata": {},
   "outputs": [],
   "source": [
    "def no_fees_buy_sell_trades(actual, predicted, threshold):\n",
    "    pred_df = pd.DataFrame()\n",
    "    pred_df['Predictions'] = predicted\n",
    "    threshold /= 100\n",
    "\n",
    "\n",
    "    y_pct_change = pred_df.pct_change()\n",
    "\n",
    "    money = 10000\n",
    "    number_of_stocks = (10000 / actual[0])\n",
    "    left = (((actual[len(actual)-1]-actual[0])/actual[0])+1)*10000\n",
    "    trades = 0\n",
    "    number_of_stocks = 0\n",
    "    portfolio = []\n",
    "    bh = []\n",
    "\n",
    "    buying_percentage_threshold = threshold \n",
    "    selling_percentage_threshold = threshold\n",
    "\n",
    "    for i in range(len(predicted) - 1):    \n",
    "        if y_pct_change['Predictions'][i + 1] > buying_percentage_threshold:\n",
    "            for j in np.arange(1, 0, -0.001):\n",
    "                #Buying of stock\n",
    "                if (money >= j * actual[i]):\n",
    "                    trades += 1\n",
    "                    money -= j * actual[i]\n",
    "                    number_of_stocks += (j*(1))\n",
    "                    break\n",
    "        elif  y_pct_change['Predictions'][i + 1] < -selling_percentage_threshold:\n",
    "            for j in np.arange(1, 0, -0.001):\n",
    "                #Selling of stock\n",
    "                if (number_of_stocks >= j):\n",
    "                    money += (j*(1)) * actual[i]\n",
    "                    number_of_stocks -= j\n",
    "                    break\n",
    "        portfolio.append((number_of_stocks * actual[i])+money)\n",
    "        bh.append(actual[i])\n",
    "\n",
    "    money += number_of_stocks * actual[len(actual) - 1]\n",
    "\n",
    "    print('Number of trades: ', trades)\n",
    "\n",
    "    return portfolio, trades\n"
   ]
  },
  {
   "cell_type": "code",
   "execution_count": null,
   "metadata": {},
   "outputs": [],
   "source": [
    "fig = plt.figure(figsize = (16, 7))\n",
    "plt.plot(real_price, label='BTC price')\n",
    "plt.plot(custom_loss, label='Custom loss')\n",
    "plt.plot(state_of_the_art, label='State of the art')\n",
    "plt.plot(model-2000, label='Project sentiment model')\n",
    "\n",
    "plt.legend(['BTC price', 'Custom loss', 'State of the art', 'Project sentiment model'])\n",
    "plt.xlabel('Time', fontsize=18, fontweight='bold')\n",
    "plt.ylabel('Price', fontsize=18, fontweight='bold')\n",
    "plt.title('Actual price and predicted price for test data', fontsize=20, fontweight='bold')\n",
    "fig.savefig('compare_models.eps', dpi=600, bbox_inches='tight')\n",
    "plt.show()"
   ]
  },
  {
   "cell_type": "code",
   "execution_count": null,
   "metadata": {},
   "outputs": [],
   "source": [
    "strat_arima, arima_trades = no_fees_buy_sell_trades(real_price, arima, 0)\n",
    "strat_custom_loss, custom_trades = no_fees_buy_sell_trades(real_price, custom_loss, 0)\n",
    "strat_state_of_the_art, state_trades = no_fees_buy_sell_trades(real_price, state_of_the_art, 0)\n",
    "strat_model, model_trades = no_fees_buy_sell_trades(real_price ,model, 0)"
   ]
  },
  {
   "cell_type": "code",
   "execution_count": null,
   "metadata": {},
   "outputs": [],
   "source": [
    "hold = [10000]\n",
    "r = pd.DataFrame(real_price)\n",
    "price = r['True'].pct_change()\n",
    "for i in range(1,len(price)-1):\n",
    "  hold.append(hold[i-1] * (1+price[i]))"
   ]
  },
  {
   "cell_type": "code",
   "execution_count": null,
   "metadata": {},
   "outputs": [],
   "source": [
    "hourly_labels = []\n",
    "hourly_predictions = []\n",
    "for i in range(0, len(result.label),4):\n",
    "    hourly_labels.append(result.label[i])\n",
    "    hourly_predictions.append(result.prediction[i])\n",
    "strat_hourly = buy_sell_trades(hourly_labels, hourly_predictions, 0)"
   ]
  },
  {
   "cell_type": "code",
   "execution_count": null,
   "metadata": {},
   "outputs": [],
   "source": [
    "fig = plt.figure(figsize = (16, 7))\n",
    "plt.plot(hold, label='Buy and hold')\n",
    "plt.plot(strat_custom_loss, label='Custom loss model')\n",
    "plt.plot(strat_state_of_the_art, label='State of the art')\n",
    "plt.plot(strat_model, label=\"Project's sentiment model\")\n",
    "\n",
    "plt.legend(['Buy and hold', 'Custom loss model', 'State of the art', \"Project's sentiment model\"])\n",
    "plt.xlabel('Time', fontsize=18, fontweight='bold')\n",
    "plt.ylabel('Account value', fontsize=18, fontweight='bold')\n",
    "plt.title('Comparison of models performances (no fees)', fontsize=20, fontweight='bold')\n",
    "fig.savefig('compare_no_fees.eps', dpi=600, bbox_inches='tight')\n",
    "plt.show()"
   ]
  },
  {
   "cell_type": "code",
   "execution_count": null,
   "metadata": {},
   "outputs": [],
   "source": [
    "strat_arima, arima_trades = no_fees_buy_sell_trades(real_price, arima, 0.2)\n",
    "strat_custom_loss, arima_trades = no_fees_buy_sell_trades(real_price, custom_loss, 0.2)\n",
    "strat_state_of_the_art, arima_trades = no_fees_buy_sell_trades(real_price, state_of_the_art, 0.2)\n",
    "strat_model, arima_trades = no_fees_buy_sell_trades(real_price ,model, 0.2)"
   ]
  },
  {
   "cell_type": "code",
   "execution_count": null,
   "metadata": {},
   "outputs": [],
   "source": [
    "fig = plt.figure(figsize = (16, 7))\n",
    "plt.plot(hold, label='Buy and hold')\n",
    "plt.plot(strat_custom_loss, label='Custom loss model')\n",
    "plt.plot(strat_state_of_the_art, label='State of the art')\n",
    "plt.plot(strat_model, label=\"Project's sentiment model\")\n",
    "\n",
    "plt.legend(['Buy and hold', 'Custom loss model', 'State of the art', \"Project's sentiment model\"])\n",
    "plt.xlabel('Time', fontsize=18, fontweight='bold')\n",
    "plt.ylabel('Account value', fontsize=18, fontweight='bold')\n",
    "plt.title('Comparison of models performances (no fees with 0.2% threshold)', fontsize=20, fontweight='bold')\n",
    "fig.savefig('compare_no_fees_threshold.eps', dpi=600, bbox_inches='tight')\n",
    "plt.show()"
   ]
  },
  {
   "cell_type": "code",
   "execution_count": null,
   "metadata": {},
   "outputs": [],
   "source": [
    "strat_arima, arima_trades = buy_sell_trades(real_price, arima, 0)\n",
    "strat_custom_loss, arima_trades = buy_sell_trades(real_price, custom_loss, 0)\n",
    "strat_state_of_the_art, arima_trades = buy_sell_trades(real_price, state_of_the_art, 0)\n",
    "strat_model, arima_trades = buy_sell_trades(real_price ,model, 0)"
   ]
  },
  {
   "cell_type": "code",
   "execution_count": null,
   "metadata": {},
   "outputs": [],
   "source": [
    "fig = plt.figure(figsize = (16, 7))\n",
    "plt.plot(hold, label='Buy and hold')\n",
    "plt.plot(strat_custom_loss, label='Custom loss model')\n",
    "plt.plot(strat_state_of_the_art, label='State of the art')\n",
    "plt.plot(strat_model, label=\"Project's sentiment model\")\n",
    "\n",
    "plt.legend(['Buy and hold', 'Custom loss model', 'State of the art', \"Project's sentiment model\"])\n",
    "plt.xlabel('Time', fontsize=18, fontweight='bold')\n",
    "plt.ylabel('Account value', fontsize=18, fontweight='bold')\n",
    "plt.title('Comparison of models performances (with fees)', fontsize=20, fontweight='bold')\n",
    "fig.savefig('compare_fees.eps', dpi=600, bbox_inches='tight')\n",
    "plt.show()"
   ]
  },
  {
   "cell_type": "code",
   "execution_count": null,
   "metadata": {},
   "outputs": [],
   "source": [
    "strat_arima, arima_trades = buy_sell_trades(real_price, arima, 0.2)\n",
    "strat_custom_loss, arima_trades = buy_sell_trades(real_price, custom_loss, 0.2)\n",
    "strat_state_of_the_art, arima_trades = buy_sell_trades(real_price, state_of_the_art, 0.2)\n",
    "strat_model, arima_trades = buy_sell_trades(real_price ,model, 0.2)"
   ]
  },
  {
   "cell_type": "code",
   "execution_count": null,
   "metadata": {},
   "outputs": [],
   "source": [
    "fig = plt.figure(figsize = (16, 7))\n",
    "plt.plot(hold, label='Buy and hold')\n",
    "plt.plot(strat_custom_loss, label='Custom loss model')\n",
    "plt.plot(strat_state_of_the_art, label='State of the art')\n",
    "plt.plot(strat_model, label=\"Project's sentiment model\")\n",
    "\n",
    "plt.legend(['Buy and hold', 'Custom loss model', 'State of the art', \"Project's sentiment model\"])\n",
    "plt.xlabel('Time', fontsize=18, fontweight='bold')\n",
    "plt.ylabel('Account value', fontsize=18, fontweight='bold')\n",
    "plt.title('Comparison of models performances (with fees and 0.2% threshold)', fontsize=20, fontweight='bold')\n",
    "fig.savefig('compare_fees_threshold.eps', dpi=600, bbox_inches='tight')\n",
    "plt.show()"
   ]
  },
  {
   "cell_type": "code",
   "execution_count": null,
   "metadata": {},
   "outputs": [],
   "source": [
    "# hourly \n",
    "# own model\n",
    "hourly_labels = []\n",
    "hourly_predictions = []\n",
    "for i in range(0, len(result.label),4):\n",
    "    hourly_labels.append(result.label[i])\n",
    "    hourly_predictions.append(result.prediction[i])\n",
    "hourly_model, arima_trades = buy_sell_trades(hourly_labels, hourly_predictions, 0)\n",
    "\n",
    "#custom \n",
    "hourly_labels = []\n",
    "hourly_predictions = []\n",
    "for i in range(0, len(custom_loss),4):\n",
    "    hourly_labels.append(result.label[i])\n",
    "    hourly_predictions.append(custom_loss[i])\n",
    "hourly_custom, arima_trades = buy_sell_trades(hourly_labels, hourly_predictions, 0)\n",
    "\n",
    "# state\n",
    "hourly_labels = []\n",
    "hourly_predictions = []\n",
    "for i in range(0, len(state_of_the_art),4):\n",
    "    hourly_labels.append(result.label[i])\n",
    "    hourly_predictions.append(state_of_the_art[i])\n",
    "hourly_state, arima_trades = buy_sell_trades(hourly_labels, hourly_predictions, 0)"
   ]
  },
  {
   "cell_type": "code",
   "execution_count": null,
   "metadata": {},
   "outputs": [],
   "source": [
    "# hold\n",
    "hourly_hold = [10000]\n",
    "r = pd.DataFrame(real_price)\n",
    "price = r['True'].pct_change()\n",
    "j=0\n",
    "for i in range(1,len(price)-5, 4):\n",
    "  hourly_hold.append(10000)\n",
    "  j +=1\n",
    "  hourly_hold[j] = (hourly_hold[j-1] * (1+price[i]))"
   ]
  },
  {
   "cell_type": "code",
   "execution_count": null,
   "metadata": {},
   "outputs": [],
   "source": [
    "fig = plt.figure(figsize = (16, 7))\n",
    "plt.plot(hourly_hold, label='Buy and hold')\n",
    "plt.plot(hourly_custom, label='Custom loss model')\n",
    "plt.plot(hourly_state, label='State of the art')\n",
    "plt.plot(hourly_model, label=\"Project's sentiment model\")\n",
    "\n",
    "plt.legend(['Buy and hold', 'Custom loss model', 'State of the art', \"Project's sentiment model\"])\n",
    "plt.xlabel('Time', fontsize=18, fontweight='bold')\n",
    "plt.ylabel('Account value', fontsize=18, fontweight='bold')\n",
    "plt.title('Comparison of hourly models performances (with fees)', fontsize=20, fontweight='bold')\n",
    "fig.savefig('compare_hourly_fees.eps', dpi=600, bbox_inches='tight')\n",
    "plt.show()"
   ]
  },
  {
   "cell_type": "code",
   "execution_count": null,
   "metadata": {},
   "outputs": [],
   "source": [
    "predicted = hourly_state\n",
    "actual = hourly_hold"
   ]
  },
  {
   "cell_type": "code",
   "execution_count": null,
   "metadata": {},
   "outputs": [],
   "source": [
    "predicted_movement = []\n",
    "actual_movement = []\n",
    "for i in range(0, len(predicted)-1):\n",
    "    if predicted[i+1] > predicted[i]:\n",
    "        predicted_movement.append(1)\n",
    "    else:\n",
    "        predicted_movement.append(0)\n",
    "    if actual[i+1] > actual[i]:\n",
    "        actual_movement.append(1)\n",
    "    else:"
   ]
  },
  {
   "cell_type": "code",
   "execution_count": null,
   "metadata": {},
   "outputs": [],
   "source": [
    "report_test = classification_report(actual_movement, predicted_movement)\n",
    "print(report_test)"
   ]
  },
  {
   "cell_type": "code",
   "execution_count": null,
   "metadata": {},
   "outputs": [],
   "source": [
    "# hourly \n",
    "# own model\n",
    "hourly_labels = []\n",
    "hourly_predictions = []\n",
    "for i in range(0, len(result.label),4):\n",
    "    hourly_labels.append(result.label[i])\n",
    "    hourly_predictions.append(result.prediction[i])\n",
    "hourly_model, arima_trades = buy_sell_trades(hourly_labels, hourly_predictions, 0.2)\n",
    "\n",
    "#custom \n",
    "hourly_labels = []\n",
    "hourly_predictions = []\n",
    "for i in range(0, len(custom_loss),4):\n",
    "    hourly_labels.append(result.label[i])\n",
    "    hourly_predictions.append(custom_loss[i])\n",
    "hourly_custom, arima_trades = buy_sell_trades(hourly_labels, hourly_predictions, 0.2)\n",
    "\n",
    "# state\n",
    "hourly_labels = []\n",
    "hourly_predictions = []\n",
    "for i in range(0, len(state_of_the_art),4):\n",
    "    hourly_labels.append(result.label[i])\n",
    "    hourly_predictions.append(state_of_the_art[i])\n",
    "hourly_state, arima_trades = buy_sell_trades(hourly_labels, hourly_predictions, 0.2)"
   ]
  },
  {
   "cell_type": "code",
   "execution_count": null,
   "metadata": {},
   "outputs": [],
   "source": [
    "fig = plt.figure(figsize = (16, 7))\n",
    "plt.plot(hourly_hold, label='Buy and hold')\n",
    "plt.plot(hourly_custom, label='Custom loss model')\n",
    "plt.plot(hourly_state, label='State of the art')\n",
    "plt.plot(hourly_model, label=\"Project's sentiment model\")\n",
    "\n",
    "plt.legend(['Buy and hold', 'Custom loss model', 'State of the art', \"Project's sentiment model\"])\n",
    "plt.xlabel('Time', fontsize=18, fontweight='bold')\n",
    "plt.ylabel('Account value', fontsize=18, fontweight='bold')\n",
    "plt.title('Comparison of hourly models performances (with fees with 0.2% threshold)', fontsize=20, fontweight='bold')\n",
    "fig.savefig('compare_hourly_fees_threshold.eps', dpi=600, bbox_inches='tight')\n",
    "plt.show()"
   ]
  }
 ],
 "metadata": {
  "language_info": {
   "name": "python"
  },
  "orig_nbformat": 4
 },
 "nbformat": 4,
 "nbformat_minor": 2
}
