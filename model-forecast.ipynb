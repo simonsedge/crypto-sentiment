{
 "cells": [
  {
   "cell_type": "markdown",
   "metadata": {},
   "source": [
    "## Networks for sentiment analysis in cryptocurrency"
   ]
  },
  {
   "cell_type": "markdown",
   "metadata": {},
   "source": [
    "### Setup"
   ]
  },
  {
   "cell_type": "code",
   "execution_count": null,
   "metadata": {
    "collapsed": true
   },
   "outputs": [],
   "source": [
    "import yaml\n",
    "import pandas as pd\n",
    "from pathlib import Path\n",
    "from matplotlib import pyplot as plt\n",
    "import seaborn as sns\n",
    "import quantstats as qs\n",
    "from sklearn.metrics import accuracy_score,  precision_score, confusion_matrix\n",
    "from sklearn.metrics import classification_report\n",
    "from sklearn.metrics import mean_squared_error, mean_absolute_percentage_error\n",
    "sns.set()"
   ]
  },
  {
   "cell_type": "code",
   "execution_count": null,
   "metadata": {},
   "outputs": [],
   "source": [
    "%matplotlib inline\n",
    "plt.style.use('ggplot')"
   ]
  },
  {
   "cell_type": "code",
   "execution_count": null,
   "metadata": {},
   "outputs": [],
   "source": [
    "from preprocess import *\n",
    "from train import *\n",
    "from inference import *\n",
    "from interpret import *"
   ]
  },
  {
   "cell_type": "code",
   "execution_count": null,
   "metadata": {},
   "outputs": [],
   "source": [
    "with open(\"Model/params.yaml\", \"r\") as params_file:\n",
    "    params = yaml.safe_load(params_file)\n",
    "\n",
    "data_dir = params['data_dir']"
   ]
  },
  {
   "cell_type": "markdown",
   "metadata": {},
   "source": [
    "### Load and Prepare the Data"
   ]
  },
  {
   "cell_type": "code",
   "execution_count": null,
   "metadata": {},
   "outputs": [],
   "source": [
    "file_name = \"price_sentiment_btc.csv\"\n",
    "data = preprocess.load_data(file_name)"
   ]
  },
  {
   "cell_type": "code",
   "execution_count": null,
   "metadata": {},
   "outputs": [],
   "source": [
    "train_df, val_df, test_df = preprocess.prep_data(df=data, train_frac=0.7, plot_df=True)\n",
    "train_df.shape, val_df.shape, test_df.shape"
   ]
  },
  {
   "cell_type": "markdown",
   "metadata": {},
   "source": [
    "### Visualise the data"
   ]
  },
  {
   "cell_type": "code",
   "execution_count": null,
   "metadata": {},
   "outputs": [],
   "source": [
    "plot_df = pd.read_csv(Path(data_dir, 'plot_df.csv'))\n",
    "plot_df['Close_Change'] = plot_df.Close.pct_change(1)\n",
    "plot_df = plot_df.dropna()"
   ]
  },
  {
   "cell_type": "code",
   "execution_count": null,
   "metadata": {},
   "outputs": [],
   "source": [
    "plot_df['Close'].plot(figsize=(16,7), label='Training data')\n",
    "plt.xlabel(\"Date\", fontsize=16)\n",
    "plt.ylabel(\"USD price\", fontsize=16)\n",
    "plt.title('Bitcoin Close Price')\n",
    "plt.show()"
   ]
  },
  {
   "cell_type": "code",
   "execution_count": null,
   "metadata": {},
   "outputs": [],
   "source": [
    "fig, axes = plt.subplots(nrows=3, ncols=1)\n",
    "plot_df['Close_Change'].plot(ax=axes[0], figsize=(16,6), rot=90, title='a. Price Change', sharex=True)\n",
    "plot_df['Close_Change'].rolling(90).mean().plot(ax=axes[1], figsize=(16,6), rot=90, title='b. Rolling Mean', color='orange')\n",
    "plot_df['Close_Change'].rolling(90).std().plot(ax=axes[2], figsize=(16,6), rot=0, title='c. Rolling Standard Deviation', color='purple')\n",
    "plt.show()"
   ]
  },
  {
   "cell_type": "markdown",
   "metadata": {},
   "source": [
    "Traditional statistical forecasting techniques require the data to be stationary, i.e., having constant mean, standard deviation, and autocorrelation. If, however, the conditions for stationarity are not achieved, forecasting techniques, like ARMA, cannot model the dependence structure of the data over time and therefore other techniques have to be used.\n",
    "We see from the Figures above that the mean and the standard deviation of the price change vary over time indicating that the time series at hand (Close prices) is not stationary. The time series shows strong, irregular dynamics which traditional forecasting techniques are less suited for. On the other hand, RNNs, especially LSTM models, have proven to work well with more complex time series at finding patterns in non-stationary time series."
   ]
  },
  {
   "cell_type": "code",
   "execution_count": null,
   "metadata": {},
   "outputs": [],
   "source": [
    "matrix_df = train_df.drop(['Open', 'High', 'Low', 'RSI', 'MACD', 'OBV', 'Williams', 'Stochastic_oscillator'], axis=1)\n",
    "corrMatrix = matrix_df.corr()\n",
    "fig, ax = plt.subplots(figsize=(15,10)) \n",
    "sns.heatmap(corrMatrix, cmap=\"Blues\", annot=True, ax=ax)\n",
    "plt.show()"
   ]
  },
  {
   "cell_type": "markdown",
   "metadata": {},
   "source": [
    "At first glance, we cannot see strong correlation between the sentiment analysis features and the price related ones. The only point to note is the correlation between the Bitcoin volume and the number of tweets which can be an indication that the number of tweets correlates with the volatility of cryptocurrencies."
   ]
  },
  {
   "cell_type": "markdown",
   "metadata": {},
   "source": [
    "### Train the LSTM model"
   ]
  },
  {
   "cell_type": "code",
   "execution_count": null,
   "metadata": {
    "collapsed": true
   },
   "outputs": [],
   "source": [
    "sequence_length = 24\n",
    "batch_size = 32\n",
    "n_epochs = 10000\n",
    "n_epochs_stop = 50\n",
    "label_name = 'Close'"
   ]
  },
  {
   "cell_type": "code",
   "execution_count": null,
   "metadata": {},
   "outputs": [],
   "source": [
    "hist = train_model(train_df, val_df, label_name, sequence_length, batch_size, n_epochs, n_epochs_stop)"
   ]
  },
  {
   "cell_type": "code",
   "execution_count": null,
   "metadata": {},
   "outputs": [],
   "source": [
    "hist.plot(figsize=(15,6))\n",
    "plt.show()"
   ]
  },
  {
   "cell_type": "markdown",
   "metadata": {},
   "source": [
    "### Evaluate the model"
   ]
  },
  {
   "cell_type": "code",
   "execution_count": null,
   "metadata": {},
   "outputs": [],
   "source": [
    "predictions_descaled, labels_descaled = predict(df=test_df, label_name=label_name, sequence_length=sequence_length)\n",
    "len(predictions_descaled), len(labels_descaled)"
   ]
  },
  {
   "cell_type": "code",
   "execution_count": null,
   "metadata": {},
   "outputs": [],
   "source": [
    "fig = plt.figure(figsize = (16, 7))\n",
    "plt.plot(labels_descaled, label='Actual Price')\n",
    "plt.plot(predictions_descaled, label='Predicted Price')\n",
    "\n",
    "plt.legend()\n",
    "plt.xlabel('Date', fontsize=18, fontweight='bold')\n",
    "plt.ylabel('Price', fontsize=18, fontweight='bold')\n",
    "plt.title('Actual price and predicted price for test data', fontsize=20, fontweight='bold')\n",
    "fig.tight_layout()\n",
    "plt.show()"
   ]
  },
  {
   "cell_type": "code",
   "execution_count": null,
   "metadata": {},
   "outputs": [],
   "source": [
    "def buy_sell_trades(actual, predicted, threshold):\n",
    "    pred_df = pd.DataFrame()\n",
    "    pred_df['Predictions'] = predicted\n",
    "    threshold /= 100\n",
    "\n",
    "\n",
    "    y_pct_change = pred_df.pct_change()\n",
    "\n",
    "    money = 10000\n",
    "    number_of_stocks = (10000 / actual[0])\n",
    "    left = (((actual[len(actual)-1]-actual[0])/actual[0])+1)*10000\n",
    "    trades = 0\n",
    "    number_of_stocks = 0\n",
    "    portfolio = []\n",
    "\n",
    "    buying_percentage_threshold = threshold\n",
    "    selling_percentage_threshold = threshold\n",
    "\n",
    "    for i in range(len(actual) - 1):    \n",
    "        if y_pct_change['Predictions'][i + 1] > buying_percentage_threshold:\n",
    "            for j in np.arange(1, 0, -0.001):\n",
    "                #Buying of stock\n",
    "                if (money >= j * actual[i]):\n",
    "                    trades += 1\n",
    "                    money -= j * actual[i]\n",
    "                    number_of_stocks += (j*(1-0.001))\n",
    "                    break\n",
    "        elif  y_pct_change['Predictions'][i + 1] < -selling_percentage_threshold:\n",
    "            for j in np.arange(1, 0, -0.001):\n",
    "                #Selling of stock\n",
    "                if (number_of_stocks >= j):\n",
    "                    money += (j*(1-0.001)) * actual[i]\n",
    "                    number_of_stocks -= j\n",
    "                    break\n",
    "        portfolio.append((number_of_stocks * actual[i])+money)\n",
    "\n",
    "    money += number_of_stocks * actual[len(actual) - 1]\n",
    "\n",
    "    print('Money if we traded: ',money) #Money if we traded\n",
    "    print('Buy and hold strategy: ',left)  #Buy and hold\n",
    "    print('Number of trades done: ', trades)\n",
    "\n",
    "    return money, portfolio"
   ]
  },
  {
   "cell_type": "code",
   "execution_count": null,
   "metadata": {},
   "outputs": [],
   "source": [
    "money, portfolio= buy_sell_trades(labels_descaled, predictions_descaled, 0)"
   ]
  },
  {
   "cell_type": "code",
   "execution_count": null,
   "metadata": {},
   "outputs": [],
   "source": [
    "real = plt.plot(np.diff(labels_descaled)/labels_descaled[:-1], label='Actual Change')\n",
    "pred = plt.plot(np.diff(predictions_descaled)/predictions_descaled[:-1], label='Predicted Change')\n",
    "\n",
    "plt.legend(['Actual Price', 'Predicted Price'])\n",
    "plt.xlabel('Price', fontsize=16)\n",
    "plt.ylabel('Time', fontsize=16)\n",
    "plt.title('Actual price change and predicted price change for test data', fontsize=20)\n",
    "plt.gcf().set_size_inches(15, 10, forward=True)\n",
    "plt.show()"
   ]
  },
  {
   "cell_type": "code",
   "execution_count": null,
   "metadata": {},
   "outputs": [],
   "source": [
    "from sklearn.metrics import mean_squared_error\n",
    "from sklearn.metrics import mean_absolute_percentage_error\n",
    "\n",
    "def generate_predicted_result_based_on_previous_actual(actual, y_pred): \n",
    "    temp_actual = actual[:-1]\n",
    "\n",
    "    #Adding each actual price at time t with the predicted difference to get a predicted price at time t + 1\n",
    "    new = np.add(temp_actual, y_pred)\n",
    "\n",
    "    plt.gcf().set_size_inches(12, 8, forward=True)\n",
    "    plt.title('Plot of real price and predicted price against number of days for test set')\n",
    "    plt.xlabel('Number of days')\n",
    "    plt.ylabel('Adjusted Close Price($)')\n",
    "\n",
    "    plt.plot(actual[1:], label='Actual Price')\n",
    "    plt.plot(new, label='Predicted Price')\n",
    "\n",
    "    print('RMSE: ', mean_squared_error(actual[1:], new, squared = False))\n",
    "    print('MAPE: ', mean_absolute_percentage_error(actual[1:], new))\n",
    "\n",
    "    #plotting of model  \n",
    "    plt.legend(['Actual Price', 'Predicted Price'])  \n",
    "    plt.show()"
   ]
  },
  {
   "cell_type": "code",
   "execution_count": null,
   "metadata": {},
   "outputs": [],
   "source": [
    "diff = np.diff(predictions_descaled)\n",
    "generate_predicted_result_based_on_previous_actual(labels_descaled, diff)"
   ]
  },
  {
   "cell_type": "code",
   "execution_count": null,
   "metadata": {},
   "outputs": [],
   "source": [
    "hourly_labels = []\n",
    "hourly_predictions = []\n",
    "for i in range(0, len(labels_descaled),4):\n",
    "    hourly_labels.append(labels_descaled[i])\n",
    "    hourly_predictions.append(predictions_descaled[i])"
   ]
  },
  {
   "cell_type": "code",
   "execution_count": null,
   "metadata": {},
   "outputs": [],
   "source": [
    "money, portfolio = buy_sell_trades(hourly_labels, hourly_predictions, 0)"
   ]
  },
  {
   "cell_type": "code",
   "execution_count": null,
   "metadata": {},
   "outputs": [],
   "source": [
    "df = pd.DataFrame(hourly_labels, columns=['price'])\n",
    "diff = df.price.pct_change().dropna()\n",
    "bh = [10000]\n",
    "for i in range(len(diff)-1):\n",
    "    bh.append(bh[i]*(1+diff[i+1]))"
   ]
  },
  {
   "cell_type": "code",
   "execution_count": null,
   "metadata": {},
   "outputs": [],
   "source": [
    "fig = plt.figure(figsize = (16, 7))\n",
    "plt.plot(portfolio, label='Hourly portfolio')\n",
    "plt.plot(bh, label='Buy & hold benchmark')\n",
    "plt.legend()\n",
    "plt.xlabel('Time', fontsize=16)\n",
    "plt.ylabel('Price', fontsize=16)\n",
    "plt.title('Portfolio performances comparaison (1h interval)', fontsize=20)\n",
    "plt.show()"
   ]
  },
  {
   "cell_type": "code",
   "execution_count": null,
   "metadata": {},
   "outputs": [],
   "source": [
    "print('Error on all test data:')\n",
    "print_loss_metrics(labels_descaled, predictions_descaled)"
   ]
  },
  {
   "cell_type": "code",
   "execution_count": null,
   "metadata": {},
   "outputs": [],
   "source": [
    "predicted = predictions_descaled\n",
    "actual = labels_descaled"
   ]
  },
  {
   "cell_type": "code",
   "execution_count": null,
   "metadata": {},
   "outputs": [],
   "source": [
    "predicted = hourly_predictions\n",
    "actual = hourly_labels"
   ]
  },
  {
   "cell_type": "code",
   "execution_count": null,
   "metadata": {},
   "outputs": [],
   "source": [
    "predicted_movement = []\n",
    "actual_movement = []\n",
    "\n",
    "for i in range(0, len(predicted)-1,4):\n",
    "    if predicted[i+1] > predicted[i]:\n",
    "        predicted_movement.append(1)\n",
    "    else:\n",
    "        predicted_movement.append(0)\n",
    "        \n",
    "    if actual[i+1] > actual[i]:\n",
    "        actual_movement.append(1)\n",
    "    else:\n",
    "        actual_movement.append(0)\n",
    "    "
   ]
  },
  {
   "cell_type": "code",
   "execution_count": null,
   "metadata": {},
   "outputs": [],
   "source": [
    "print(confusion_matrix(actual_movement, predicted_movement))\n",
    "print(accuracy_score(actual_movement, predicted_movement))\n",
    "print(precision_score(actual_movement, predicted_movement))"
   ]
  },
  {
   "cell_type": "code",
   "execution_count": null,
   "metadata": {},
   "outputs": [],
   "source": [
    "print(classification_report(actual_movement, predicted_movement))"
   ]
  },
  {
   "cell_type": "markdown",
   "metadata": {},
   "source": [
    "### Model generalisation"
   ]
  },
  {
   "cell_type": "code",
   "execution_count": null,
   "metadata": {},
   "outputs": [],
   "source": [
    "unseen = pd.read_csv('Data/unseen_price_sentiment_btc.csv')"
   ]
  },
  {
   "cell_type": "code",
   "execution_count": null,
   "metadata": {},
   "outputs": [],
   "source": [
    "save_time = unseen['Time']\n",
    "unseen = unseen.drop(['Time'], axis=1)\n",
    "unseen = preprocess.create_features(unseen)\n",
    "scaler = joblib.load(\"Model/scaler.gz\")\n",
    "unseen_df = pd.DataFrame(\n",
    "    scaler.transform(unseen), index=unseen.index, columns=unseen.columns\n",
    ")"
   ]
  },
  {
   "cell_type": "code",
   "execution_count": null,
   "metadata": {},
   "outputs": [],
   "source": [
    "predictions_descaled, labels_descaled = predict(df=unseen_df, label_name=label_name, sequence_length=sequence_length)\n",
    "len(predictions_descaled), len(labels_descaled)"
   ]
  },
  {
   "cell_type": "code",
   "execution_count": null,
   "metadata": {},
   "outputs": [],
   "source": [
    "fig = plt.figure(figsize = (16, 7))\n",
    "plt.plot(labels_descaled, label='Actual Price')\n",
    "plt.plot(predictions_descaled, label='Predicted Price')\n",
    "\n",
    "plt.legend()\n",
    "plt.xlabel('Date', fontsize=18, fontweight='bold')\n",
    "plt.ylabel('Price', fontsize=18, fontweight='bold')\n",
    "plt.title('Actual price and predicted price for unseen data', fontsize=20, fontweight='bold')\n",
    "fig.tight_layout()\n",
    "fig.savefig('C:/Users/bapti/OneDrive/Desktop/Imperial Y4/FYP report/figures/general.eps', dpi=600, bbox_inches='tight')\n",
    "plt.show()"
   ]
  },
  {
   "cell_type": "code",
   "execution_count": null,
   "metadata": {},
   "outputs": [],
   "source": [
    "money, portfolio0 = buy_sell_trades(labels_descaled, predictions_descaled, 0)\n",
    "money, portfolio2 = buy_sell_trades(labels_descaled, predictions_descaled, 0.2)\n",
    "money, portfolio5 = buy_sell_trades(labels_descaled, predictions_descaled, 0.5)"
   ]
  },
  {
   "cell_type": "code",
   "execution_count": null,
   "metadata": {},
   "outputs": [],
   "source": [
    "df = pd.DataFrame(labels_descaled, columns=['price'])\n",
    "diff = df.price.pct_change().dropna()\n",
    "bh = [10000]\n",
    "for i in range(len(diff)-1):\n",
    "    bh.append(bh[i]*(1+diff[i+1]))"
   ]
  },
  {
   "cell_type": "code",
   "execution_count": null,
   "metadata": {},
   "outputs": [],
   "source": [
    "fig = plt.figure(figsize = (16, 7))\n",
    "plt.plot(portfolio0, label='Model portfolio (no threshold)')\n",
    "plt.plot(portfolio2, label='Model portfolio (0.2% threshold)')\n",
    "plt.plot(portfolio5, label='Model portfolio (0.5% threshold)')\n",
    "plt.plot(bh, label='Buy & hold benchmark')\n",
    "\n",
    "plt.legend()\n",
    "plt.xlabel('Date', fontsize=18, fontweight='bold')\n",
    "plt.ylabel('Price', fontsize=18, fontweight='bold')\n",
    "plt.title('Portfolio performance comparison (15 min interval)', fontsize=20, fontweight='bold')\n",
    "fig.tight_layout()\n",
    "plt.show()"
   ]
  },
  {
   "cell_type": "code",
   "execution_count": null,
   "metadata": {},
   "outputs": [],
   "source": [
    "hourly_labels = []\n",
    "hourly_predictions = []\n",
    "for i in range(0, len(labels_descaled),4):\n",
    "    hourly_labels.append(labels_descaled[i])\n",
    "    hourly_predictions.append(predictions_descaled[i])\n",
    "money, portfolio = buy_sell_trades(hourly_labels, hourly_predictions, 0)\n",
    "money, portfolio2 = buy_sell_trades(hourly_labels, hourly_predictions, 0.2)"
   ]
  },
  {
   "cell_type": "code",
   "execution_count": null,
   "metadata": {},
   "outputs": [],
   "source": [
    "df = pd.DataFrame(hourly_labels, columns=['price'])\n",
    "diff = df.price.pct_change().dropna()\n",
    "bh = [16000]\n",
    "for i in range(len(diff)-1):\n",
    "    bh.append(bh[i]*(1+diff[i+1]))"
   ]
  },
  {
   "cell_type": "code",
   "execution_count": null,
   "metadata": {},
   "outputs": [],
   "source": [
    "fig = plt.figure(figsize = (16, 7))\n",
    "plt.plot(portfolio, label='Model portfolio (no threshold)')\n",
    "plt.plot(portfolio2, label='Model portfolio (0.2% threshold)')\n",
    "plt.plot(bh, label='Buy & hold benchmark')\n",
    "\n",
    "plt.legend()\n",
    "plt.xlabel('Date', fontsize=18, fontweight='bold')\n",
    "plt.ylabel('Price', fontsize=18, fontweight='bold')\n",
    "plt.title('Portfolio performance comparison (1h interval)', fontsize=20, fontweight='bold')\n",
    "fig.tight_layout()\n",
    "plt.show()"
   ]
  },
  {
   "cell_type": "markdown",
   "metadata": {},
   "source": [
    "### Find important features"
   ]
  },
  {
   "cell_type": "code",
   "execution_count": null,
   "metadata": {
    "collapsed": true
   },
   "outputs": [],
   "source": [
    "background_data_size = 2000\n",
    "test_sample_size = 800\n",
    "sequence_length = 24"
   ]
  },
  {
   "cell_type": "code",
   "execution_count": null,
   "metadata": {},
   "outputs": [],
   "source": [
    "shap_values = get_important_features(\n",
    "    background_data_size,\n",
    "    test_sample_size,\n",
    "    sequence_length,\n",
    ")"
   ]
  },
  {
   "cell_type": "code",
   "execution_count": null,
   "metadata": {},
   "outputs": [],
   "source": [
    "shap_plot = pd.DataFrame(shap_values, columns=train_df.columns.tolist())\n",
    "shap_plot['days'] = [i-25 for i in list(range(1,25))]"
   ]
  },
  {
   "cell_type": "code",
   "execution_count": null,
   "metadata": {},
   "outputs": [],
   "source": [
    "shap_plot.plot.area(x='days',figsize=(10, 6), cmap='viridis')\n",
    "plt.title(\"Deep SHAP - Feature Importance\")\n",
    "plt.show()"
   ]
  },
  {
   "cell_type": "code",
   "execution_count": null,
   "metadata": {
    "collapsed": true
   },
   "outputs": [],
   "source": [
    "total_importance = pd.DataFrame(shap_plot.sum(), columns=['Features'])\n",
    "total_importance.nlargest(40, 'Features')"
   ]
  }
 ],
 "metadata": {
  "interpreter": {
   "hash": "4b20c4049f294bc39ee81bbce8deb87edf0d42c6b1a9af919bfc46fd65abd4fa"
  },
  "kernelspec": {
   "display_name": "Python 3.9.7 64-bit",
   "language": "python",
   "name": "python3"
  },
  "language_info": {
   "codemirror_mode": {
    "name": "ipython",
    "version": 3
   },
   "file_extension": ".py",
   "mimetype": "text/x-python",
   "name": "python",
   "nbconvert_exporter": "python",
   "pygments_lexer": "ipython3",
   "version": "3.9.7"
  }
 },
 "nbformat": 4,
 "nbformat_minor": 4
}
